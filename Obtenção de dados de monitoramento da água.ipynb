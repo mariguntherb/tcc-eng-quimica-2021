{
  "nbformat": 4,
  "nbformat_minor": 0,
  "metadata": {
    "colab": {
      "name": "Municípios_5_mais.ipynb",
      "provenance": [],
      "collapsed_sections": []
    },
    "kernelspec": {
      "name": "python3",
      "display_name": "Python 3"
    },
    "language_info": {
      "name": "python"
    }
  },
  "cells": [
    {
      "cell_type": "markdown",
      "metadata": {
        "id": "sw7MpvJDFH7d"
      },
      "source": [
        "# OBTENÇÃO DOS DADOS DE ANÁLISE DA ÁGUA\n",
        "> *   Dados do monitoramento da qualidade da água (Controle Semestral) registrados no Sistema Sisagua\n",
        "*   Dados do período 2014 - 2020 para os municípios: Canoas, Caxias do Sul, Pelotas, Porto Alegre e Santa Maria\n",
        "* Fonte dos dados: https://dados.gov.br/dataset/controle-semestral\n",
        "\n",
        "> \n"
      ]
    },
    {
      "cell_type": "markdown",
      "metadata": {
        "id": "vp19jzk_HvBJ"
      },
      "source": [
        "> Importação da biblioteca Pandas para análise de dados:\n",
        ">> 1. Leitura do arquivo CSV\n",
        ">> 2. Filtro dos dados do Brasil para selecionar apenas os municípios alvo\n",
        ">> 3. Conversão dos dados em planilha excel"
      ]
    },
    {
      "cell_type": "code",
      "metadata": {
        "id": "vhyabbtsLo20"
      },
      "source": [
        "import pandas as pd"
      ],
      "execution_count": 1,
      "outputs": []
    },
    {
      "cell_type": "markdown",
      "metadata": {
        "id": "Y-E_z20WHTgI"
      },
      "source": [
        "1. Leitura do arquivo CSV"
      ]
    },
    {
      "cell_type": "code",
      "metadata": {
        "id": "6NgvKdtlLtfz"
      },
      "source": [
        "dados = pd.read_csv('https://sage.saude.gov.br/dados/sisagua/controle_semestral_2020.zip', compression = 'zip', sep = ';', encoding = 'latin1')\n",
        "dados.head()"
      ],
      "execution_count": null,
      "outputs": []
    },
    {
      "cell_type": "markdown",
      "metadata": {
        "id": "lTEktqRvHbP6"
      },
      "source": [
        "2. Filtro dos dados do Brasil para selecionar apenas os municípios alvo"
      ]
    },
    {
      "cell_type": "code",
      "metadata": {
        "colab": {
          "base_uri": "https://localhost:8080/"
        },
        "id": "JqaC8pM2NJ9F",
        "outputId": "a18290d8-125e-4b3b-ff1f-021a2be997fe"
      },
      "source": [
        "\n",
        "#filtro1 = (dados['Município'] == 'PELOTAS') | (dados['Município'] == 'CAXIAS DO SUL') | (dados['Município'] == 'CANOAS') | (dados['Município'] == 'PORTO ALEGRE') | (dados['Município'] == 'SANTA MARIA')\n",
        "\n",
        "dados_2014_2020 = pd.DataFrame()\n",
        "\n",
        "for i in [2014, 2015, 2016, 2017, 2018, 2019, 2020]:\n",
        "  print(i)\n",
        "  dados = pd.read_csv('https://sage.saude.gov.br/dados/sisagua/controle_semestral_' + str(i) + '.zip', compression = 'zip', sep = ';', encoding = 'latin1')\n",
        "\n",
        "  filtro1 = (dados['UF'] == 'RS')\n",
        "  dados_RS = dados[filtro1]\n",
        "\n",
        "  filtro2 = (dados_RS['Município'].isin(['PELOTAS','CAXIAS DO SUL','CANOAS','PORTO ALEGRE','SANTA MARIA']))\n",
        "  dados_5mais = dados_RS[filtro2]\n",
        "\n",
        "  dados_2014_2020 = pd.concat([dados_2014_2020, dados_5mais])\n",
        "\n",
        "\n",
        "\n"
      ],
      "execution_count": null,
      "outputs": [
        {
          "output_type": "stream",
          "text": [
            "2014\n"
          ],
          "name": "stdout"
        },
        {
          "output_type": "stream",
          "text": [
            "/usr/local/lib/python3.7/dist-packages/IPython/core/interactiveshell.py:2718: DtypeWarning: Columns (6,9,14) have mixed types.Specify dtype option on import or set low_memory=False.\n",
            "  interactivity=interactivity, compiler=compiler, result=result)\n"
          ],
          "name": "stderr"
        },
        {
          "output_type": "stream",
          "text": [
            "2015\n",
            "2016\n",
            "2017\n",
            "2018\n",
            "2019\n",
            "2020\n"
          ],
          "name": "stdout"
        },
        {
          "output_type": "stream",
          "text": [
            "/usr/local/lib/python3.7/dist-packages/IPython/core/interactiveshell.py:2718: DtypeWarning: Columns (5,6,7,9,14) have mixed types.Specify dtype option on import or set low_memory=False.\n",
            "  interactivity=interactivity, compiler=compiler, result=result)\n"
          ],
          "name": "stderr"
        }
      ]
    },
    {
      "cell_type": "markdown",
      "metadata": {
        "id": "DyP6pQbhHd8z"
      },
      "source": [
        "3. Conversão dos dados em planilha excel"
      ]
    },
    {
      "cell_type": "code",
      "metadata": {
        "id": "x8ZCQnbmTPTl"
      },
      "source": [
        "dados_2014_2020.to_excel('Dados controle semestral 2014-2020 5 mais.xlsx',index = False)"
      ],
      "execution_count": null,
      "outputs": []
    }
  ]
}